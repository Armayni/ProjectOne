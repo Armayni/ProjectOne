{
 "cells": [
  {
   "cell_type": "code",
   "execution_count": 2,
   "metadata": {},
   "outputs": [],
   "source": [
    "import os\n",
    "import csv\n",
    "# Dependencies and Setup\n",
    "import matplotlib.pyplot as plt\n",
    "import pandas as pd\n",
    "import numpy as np\n",
    "import requests\n",
    "import time\n",
    "# Import API key\n",
    "#from api_keys import api_key"
   ]
  },
  {
   "cell_type": "code",
   "execution_count": 3,
   "metadata": {},
   "outputs": [
    {
     "data": {
      "text/plain": [
       "0    55.0\n",
       "1    60.0\n",
       "2    50.0\n",
       "3    40.0\n",
       "4    28.0\n",
       "Name: Victim Age, dtype: float64"
      ]
     },
     "execution_count": 3,
     "metadata": {},
     "output_type": "execute_result"
    }
   ],
   "source": [
    "file_to_load = \"Resources/traffic_collision_LA.csv\"\n",
    "collision_df = pd.read_csv(file_to_load, delimiter=',', encoding=\"utf-8\")\n",
    "collision_df[\"Victim Age\"].head()"
   ]
  },
  {
   "cell_type": "code",
   "execution_count": 4,
   "metadata": {},
   "outputs": [
    {
     "data": {
      "text/plain": [
       "Index(['DR Number', 'Date Reported', 'Date Occurred', 'Time Occurred',\n",
       "       'Area ID', 'Area Name', 'Reporting District', 'Crime Code',\n",
       "       'Crime Code Description', 'MO Codes', 'Victim Age', 'Victim Sex',\n",
       "       'Victim Descent', 'Premise Code', 'Premise Description', 'Address',\n",
       "       'Cross Street', 'Location', 'Zip Codes', 'Census Tracts',\n",
       "       'Precinct Boundaries', 'LA Specific Plans', 'Council Districts',\n",
       "       'Neighborhood Councils (Certified)'],\n",
       "      dtype='object')"
      ]
     },
     "execution_count": 4,
     "metadata": {},
     "output_type": "execute_result"
    }
   ],
   "source": [
    "collision_df.columns"
   ]
  },
  {
   "cell_type": "code",
   "execution_count": 5,
   "metadata": {},
   "outputs": [
    {
     "data": {
      "text/html": [
       "<div>\n",
       "<style scoped>\n",
       "    .dataframe tbody tr th:only-of-type {\n",
       "        vertical-align: middle;\n",
       "    }\n",
       "\n",
       "    .dataframe tbody tr th {\n",
       "        vertical-align: top;\n",
       "    }\n",
       "\n",
       "    .dataframe thead th {\n",
       "        text-align: right;\n",
       "    }\n",
       "</style>\n",
       "<table border=\"1\" class=\"dataframe\">\n",
       "  <thead>\n",
       "    <tr style=\"text-align: right;\">\n",
       "      <th></th>\n",
       "      <th>DR Number</th>\n",
       "      <th>Date Reported</th>\n",
       "      <th>Date Occurred</th>\n",
       "      <th>Time Occurred</th>\n",
       "      <th>Area ID</th>\n",
       "      <th>Area Name</th>\n",
       "      <th>Reporting District</th>\n",
       "      <th>Crime Code</th>\n",
       "      <th>Crime Code Description</th>\n",
       "      <th>MO Codes</th>\n",
       "      <th>...</th>\n",
       "      <th>Premise Description</th>\n",
       "      <th>Address</th>\n",
       "      <th>Cross Street</th>\n",
       "      <th>Location</th>\n",
       "      <th>Zip Codes</th>\n",
       "      <th>Census Tracts</th>\n",
       "      <th>Precinct Boundaries</th>\n",
       "      <th>LA Specific Plans</th>\n",
       "      <th>Council Districts</th>\n",
       "      <th>Neighborhood Councils (Certified)</th>\n",
       "    </tr>\n",
       "  </thead>\n",
       "  <tbody>\n",
       "    <tr>\n",
       "      <th>0</th>\n",
       "      <td>190817451</td>\n",
       "      <td>2019</td>\n",
       "      <td>2019</td>\n",
       "      <td>1230</td>\n",
       "      <td>8</td>\n",
       "      <td>West LA</td>\n",
       "      <td>841</td>\n",
       "      <td>997</td>\n",
       "      <td>TRAFFIC COLLISION</td>\n",
       "      <td>NaN</td>\n",
       "      <td>...</td>\n",
       "      <td>STREET</td>\n",
       "      <td>SALTAIR                      AV</td>\n",
       "      <td>RHODE ISLAND                 ST</td>\n",
       "      <td>{'latitude': '34.0433', 'human_address': '{\"ad...</td>\n",
       "      <td>23443.0</td>\n",
       "      <td>862.0</td>\n",
       "      <td>1519.0</td>\n",
       "      <td>9.0</td>\n",
       "      <td>10.0</td>\n",
       "      <td>50.0</td>\n",
       "    </tr>\n",
       "    <tr>\n",
       "      <th>1</th>\n",
       "      <td>191519526</td>\n",
       "      <td>2019</td>\n",
       "      <td>2019</td>\n",
       "      <td>1310</td>\n",
       "      <td>15</td>\n",
       "      <td>N Hollywood</td>\n",
       "      <td>1554</td>\n",
       "      <td>997</td>\n",
       "      <td>TRAFFIC COLLISION</td>\n",
       "      <td>NaN</td>\n",
       "      <td>...</td>\n",
       "      <td>STREET</td>\n",
       "      <td>CULVER                       BL</td>\n",
       "      <td>MARINA</td>\n",
       "      <td>{'latitude': '33.9821', 'human_address': '{\"ad...</td>\n",
       "      <td>24031.0</td>\n",
       "      <td>919.0</td>\n",
       "      <td>240.0</td>\n",
       "      <td>10.0</td>\n",
       "      <td>10.0</td>\n",
       "      <td>85.0</td>\n",
       "    </tr>\n",
       "    <tr>\n",
       "      <th>2</th>\n",
       "      <td>192019001</td>\n",
       "      <td>2019</td>\n",
       "      <td>2019</td>\n",
       "      <td>900</td>\n",
       "      <td>20</td>\n",
       "      <td>Olympic</td>\n",
       "      <td>2042</td>\n",
       "      <td>997</td>\n",
       "      <td>TRAFFIC COLLISION</td>\n",
       "      <td>NaN</td>\n",
       "      <td>...</td>\n",
       "      <td>STREET</td>\n",
       "      <td>9TH                          ST</td>\n",
       "      <td>WILTON                       PL</td>\n",
       "      <td>{'latitude': '34.0559', 'human_address': '{\"ad...</td>\n",
       "      <td>22722.0</td>\n",
       "      <td>611.0</td>\n",
       "      <td>888.0</td>\n",
       "      <td>NaN</td>\n",
       "      <td>7.0</td>\n",
       "      <td>86.0</td>\n",
       "    </tr>\n",
       "    <tr>\n",
       "      <th>3</th>\n",
       "      <td>191615731</td>\n",
       "      <td>2019</td>\n",
       "      <td>2019</td>\n",
       "      <td>30</td>\n",
       "      <td>16</td>\n",
       "      <td>Foothill</td>\n",
       "      <td>1687</td>\n",
       "      <td>997</td>\n",
       "      <td>TRAFFIC COLLISION</td>\n",
       "      <td>NaN</td>\n",
       "      <td>...</td>\n",
       "      <td>STREET</td>\n",
       "      <td>VINELAND                     AV</td>\n",
       "      <td>CANTARA                      ST</td>\n",
       "      <td>{'latitude': '34.2193', 'human_address': '{\"ad...</td>\n",
       "      <td>19335.0</td>\n",
       "      <td>166.0</td>\n",
       "      <td>272.0</td>\n",
       "      <td>NaN</td>\n",
       "      <td>3.0</td>\n",
       "      <td>21.0</td>\n",
       "    </tr>\n",
       "    <tr>\n",
       "      <th>4</th>\n",
       "      <td>190918910</td>\n",
       "      <td>2019</td>\n",
       "      <td>2019</td>\n",
       "      <td>130</td>\n",
       "      <td>9</td>\n",
       "      <td>Van Nuys</td>\n",
       "      <td>914</td>\n",
       "      <td>997</td>\n",
       "      <td>TRAFFIC COLLISION</td>\n",
       "      <td>NaN</td>\n",
       "      <td>...</td>\n",
       "      <td>STREET</td>\n",
       "      <td>ENADIA                       WY</td>\n",
       "      <td>NATICK                       AV</td>\n",
       "      <td>{'latitude': '34.2002', 'human_address': '{\"ad...</td>\n",
       "      <td>19733.0</td>\n",
       "      <td>229.0</td>\n",
       "      <td>288.0</td>\n",
       "      <td>NaN</td>\n",
       "      <td>3.0</td>\n",
       "      <td>18.0</td>\n",
       "    </tr>\n",
       "  </tbody>\n",
       "</table>\n",
       "<p>5 rows × 24 columns</p>\n",
       "</div>"
      ],
      "text/plain": [
       "   DR Number  Date Reported  Date Occurred  Time Occurred  Area ID  \\\n",
       "0  190817451           2019           2019           1230        8   \n",
       "1  191519526           2019           2019           1310       15   \n",
       "2  192019001           2019           2019            900       20   \n",
       "3  191615731           2019           2019             30       16   \n",
       "4  190918910           2019           2019            130        9   \n",
       "\n",
       "     Area Name  Reporting District  Crime Code Crime Code Description  \\\n",
       "0      West LA                 841         997      TRAFFIC COLLISION   \n",
       "1  N Hollywood                1554         997      TRAFFIC COLLISION   \n",
       "2      Olympic                2042         997      TRAFFIC COLLISION   \n",
       "3     Foothill                1687         997      TRAFFIC COLLISION   \n",
       "4     Van Nuys                 914         997      TRAFFIC COLLISION   \n",
       "\n",
       "  MO Codes  ...  Premise Description                          Address  \\\n",
       "0      NaN  ...               STREET  SALTAIR                      AV   \n",
       "1      NaN  ...               STREET  CULVER                       BL   \n",
       "2      NaN  ...               STREET  9TH                          ST   \n",
       "3      NaN  ...               STREET  VINELAND                     AV   \n",
       "4      NaN  ...               STREET  ENADIA                       WY   \n",
       "\n",
       "                      Cross Street  \\\n",
       "0  RHODE ISLAND                 ST   \n",
       "1                           MARINA   \n",
       "2  WILTON                       PL   \n",
       "3  CANTARA                      ST   \n",
       "4  NATICK                       AV   \n",
       "\n",
       "                                            Location Zip Codes Census Tracts  \\\n",
       "0  {'latitude': '34.0433', 'human_address': '{\"ad...   23443.0         862.0   \n",
       "1  {'latitude': '33.9821', 'human_address': '{\"ad...   24031.0         919.0   \n",
       "2  {'latitude': '34.0559', 'human_address': '{\"ad...   22722.0         611.0   \n",
       "3  {'latitude': '34.2193', 'human_address': '{\"ad...   19335.0         166.0   \n",
       "4  {'latitude': '34.2002', 'human_address': '{\"ad...   19733.0         229.0   \n",
       "\n",
       "  Precinct Boundaries LA Specific Plans  Council Districts  \\\n",
       "0              1519.0               9.0               10.0   \n",
       "1               240.0              10.0               10.0   \n",
       "2               888.0               NaN                7.0   \n",
       "3               272.0               NaN                3.0   \n",
       "4               288.0               NaN                3.0   \n",
       "\n",
       "   Neighborhood Councils (Certified)  \n",
       "0                               50.0  \n",
       "1                               85.0  \n",
       "2                               86.0  \n",
       "3                               21.0  \n",
       "4                               18.0  \n",
       "\n",
       "[5 rows x 24 columns]"
      ]
     },
     "execution_count": 5,
     "metadata": {},
     "output_type": "execute_result"
    }
   ],
   "source": [
    "collision_df['Date Reported'] = pd.to_datetime(collision_df['Date Reported']).dt.year # to take the year\n",
    "collision_df['Date Occurred'] = pd.to_datetime(collision_df['Date Occurred']).dt.year\n",
    "collision_df.head()"
   ]
  },
  {
   "cell_type": "markdown",
   "metadata": {},
   "source": [
    "Accident Prone locations\n",
    "\n",
    "•\tDetermine which area has the most amount of collisions\n"
   ]
  },
  {
   "cell_type": "code",
   "execution_count": 6,
   "metadata": {},
   "outputs": [
    {
     "data": {
      "text/plain": [
       "77th Street    31404\n",
       "Southwest      29156\n",
       "Wilshire       28547\n",
       "West LA        26936\n",
       "N Hollywood    26509\n",
       "Olympic        26407\n",
       "Pacific        26311\n",
       "Van Nuys       25195\n",
       "Newton         24774\n",
       "Devonshire     24483\n",
       "Hollywood      24336\n",
       "West Valley    24153\n",
       "Northeast      22754\n",
       "Mission        21724\n",
       "Topanga        21675\n",
       "Central        20235\n",
       "Southeast      20174\n",
       "Rampart        18759\n",
       "Harbor         18581\n",
       "Hollenbeck     18063\n",
       "Foothill       17291\n",
       "Name: Area Name, dtype: int64"
      ]
     },
     "execution_count": 6,
     "metadata": {},
     "output_type": "execute_result"
    }
   ],
   "source": [
    "location = collision_df['Area Name'].value_counts()\n",
    "\n",
    "location \n"
   ]
  },
  {
   "cell_type": "code",
   "execution_count": 7,
   "metadata": {},
   "outputs": [
    {
     "data": {
      "image/png": "[encoded data removed]",
      "text/plain": [
       "<Figure size 432x288 with 1 Axes>"
      ]
     },
     "metadata": {
      "needs_background": "light"
     },
     "output_type": "display_data"
    }
   ],
   "source": [
    "lst = [\"#808080\"] * 20\n",
    "Location_chart = location.plot(kind=\"bar\", title=\"Accident prone area\", color = ['#ff0000'] + lst)\n",
    "Location_chart.set_xlabel(\"Area Name\")\n",
    "Location_chart.set_ylabel(\"Total\")\n",
    "\n",
    "plt.savefig(\"Images/location.png\")"
   ]
  },
  {
   "cell_type": "markdown",
   "metadata": {},
   "source": [
    "Gender Demographic\n",
    "\n",
    "•\tCount of Male drivers\n",
    "•\tCount of Female drivers\n",
    "•\tCount of Unknown gender drivers\n",
    "\n",
    "Determine which gender caused the most amount of collisions\n",
    "\n"
   ]
  },
  {
   "cell_type": "code",
   "execution_count": 8,
   "metadata": {},
   "outputs": [],
   "source": [
    "#Gender loop  \n",
    "count_F=0\n",
    "count_M=0\n",
    "Total=collision_df['Victim Sex'].count()\n",
    "for gender in collision_df['Victim Sex']:\n",
    "    if gender==\"F\":\n",
    "        count_F=count_F+1\n",
    "    elif gender==\"M\":\n",
    "        count_M=count_M+1\n",
    "Others=Total-(count_F+count_M)\n"
   ]
  },
  {
   "cell_type": "code",
   "execution_count": 11,
   "metadata": {},
   "outputs": [
    {
     "data": {
      "image/png": "[encoded data removed]",
      "text/plain": [
       "<Figure size 432x288 with 1 Axes>"
      ]
     },
     "metadata": {},
     "output_type": "display_data"
    }
   ],
   "source": [
    "\n",
    "plt.rcParams[\"font.weight\"] = \"bold\"\n",
    "# plt.figure(figsize=(10,10))\n",
    "\n",
    "sizes=[count_F,count_M,Others]\n",
    "labels=[\"Female\", \"Male\", \"Unknown\"]\n",
    "colors=[\"pink\", \"blue\", \"red\"]\n",
    "explode=(0,0.1,0)\n",
    "piechart = plt.pie(sizes, explode=explode, labels=labels, colors=colors,\n",
    "         autopct=\"%1.1f%%\", shadow=True, startangle=140,)\n",
    "for txt in piechart[2]:\n",
    "    txt.set_fontsize(20)\n",
    "for txt in piechart[1]:\n",
    "    txt.set_fontsize(20)\n",
    "\n",
    "\n",
    "plt.savefig(\"Images/gender.png\")\n",
    "\n",
    "\n",
    "\n",
    "\n"
   ]
  },
  {
   "cell_type": "code",
   "execution_count": null,
   "metadata": {},
   "outputs": [],
   "source": []
  }
 ],
 "metadata": {
  "kernelspec": {
   "display_name": "Python 3",
   "language": "python",
   "name": "python3"
  },
  "language_info": {
   "codemirror_mode": {
    "name": "ipython",
    "version": 3
   },
   "file_extension": ".py",
   "mimetype": "text/x-python",
   "name": "python",
   "nbconvert_exporter": "python",
   "pygments_lexer": "ipython3",
   "version": "3.7.3"
  }
 },
 "nbformat": 4,
 "nbformat_minor": 2
}
